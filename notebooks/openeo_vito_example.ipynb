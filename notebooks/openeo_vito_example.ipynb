{
 "cells": [
  {
   "cell_type": "code",
   "execution_count": 1,
   "id": "90a3b059",
   "metadata": {},
   "outputs": [],
   "source": [
    "import json\n",
    "from pprint import pprint \n",
    "\n",
    "import openeo\n",
    "from openeo.processes import ProcessBuilder, lt, if_\n",
    "from pg_to_evalscript.conversion import convert_from_process_graph"
   ]
  },
  {
   "cell_type": "code",
   "execution_count": 2,
   "id": "eceec722",
   "metadata": {},
   "outputs": [],
   "source": [
    "c = openeo.connect(\"https://openeo.vito.be/openeo/1.0\")"
   ]
  },
  {
   "cell_type": "code",
   "execution_count": 3,
   "id": "f62353b9",
   "metadata": {},
   "outputs": [],
   "source": [
    "test_polygon = {\n",
    "    \"type\": \"Polygon\",\n",
    "    \"coordinates\": [\n",
    "        [\n",
    "            [12.481616, 42.016518],\n",
    "            [12.437678, 41.995082],\n",
    "            [12.542031, 41.942992],\n",
    "            [12.632654, 41.971595],\n",
    "            [12.620297, 42.002228],\n",
    "            [12.481616, 42.016518],\n",
    "        ]\n",
    "    ],\n",
    "}"
   ]
  },
  {
   "cell_type": "code",
   "execution_count": 4,
   "id": "b9efe3b0",
   "metadata": {
    "scrolled": true
   },
   "outputs": [
    {
     "name": "stdout",
     "output_type": "stream",
     "text": [
      "{'aggregatespatial1': {'arguments': {'data': {'from_node': 'reducedimension1'},\n",
      "                                     'geometries': {'coordinates': [[[12.481616,\n",
      "                                                                      42.016518],\n",
      "                                                                     [12.437678,\n",
      "                                                                      41.995082],\n",
      "                                                                     [12.542031,\n",
      "                                                                      41.942992],\n",
      "                                                                     [12.632654,\n",
      "                                                                      41.971595],\n",
      "                                                                     [12.620297,\n",
      "                                                                      42.002228],\n",
      "                                                                     [12.481616,\n",
      "                                                                      42.016518]]],\n",
      "                                                    'type': 'Polygon'},\n",
      "                                     'reducer': {'process_graph': {'median1': {'arguments': {'data': {'from_parameter': 'data'}},\n",
      "                                                                               'process_id': 'median',\n",
      "                                                                               'result': True}}}},\n",
      "                       'process_id': 'aggregate_spatial',\n",
      "                       'result': True},\n",
      " 'loadcollection1': {'arguments': {'bands': ['B04', 'B08', 'CLP'],\n",
      "                                   'id': 'SENTINEL2_L2A_SENTINELHUB',\n",
      "                                   'spatial_extent': None,\n",
      "                                   'temporal_extent': ['2020-01-01',\n",
      "                                                       '2021-01-01']},\n",
      "                     'process_id': 'load_collection'},\n",
      " 'reducedimension1': {'arguments': {'data': {'from_node': 'loadcollection1'},\n",
      "                                    'dimension': 'bands',\n",
      "                                    'reducer': {'process_graph': {'add1': {'arguments': {'x': {'from_node': 'arrayelement1'},\n",
      "                                                                                         'y': {'from_node': 'arrayelement2'}},\n",
      "                                                                           'process_id': 'add'},\n",
      "                                                                  'arrayelement1': {'arguments': {'data': {'from_parameter': 'data'},\n",
      "                                                                                                  'index': 1},\n",
      "                                                                                    'process_id': 'array_element'},\n",
      "                                                                  'arrayelement2': {'arguments': {'data': {'from_parameter': 'data'},\n",
      "                                                                                                  'index': 0},\n",
      "                                                                                    'process_id': 'array_element'},\n",
      "                                                                  'arrayelement3': {'arguments': {'data': {'from_parameter': 'data'},\n",
      "                                                                                                  'index': 2},\n",
      "                                                                                    'process_id': 'array_element'},\n",
      "                                                                  'divide1': {'arguments': {'x': {'from_node': 'subtract1'},\n",
      "                                                                                            'y': {'from_node': 'add1'}},\n",
      "                                                                              'process_id': 'divide'},\n",
      "                                                                  'if1': {'arguments': {'accept': {'from_node': 'divide1'},\n",
      "                                                                                        'value': {'from_node': 'lt1'}},\n",
      "                                                                          'process_id': 'if',\n",
      "                                                                          'result': True},\n",
      "                                                                  'lt1': {'arguments': {'x': {'from_node': 'arrayelement3'},\n",
      "                                                                                        'y': 40},\n",
      "                                                                          'process_id': 'lt'},\n",
      "                                                                  'subtract1': {'arguments': {'x': {'from_node': 'arrayelement1'},\n",
      "                                                                                              'y': {'from_node': 'arrayelement2'}},\n",
      "                                                                                'process_id': 'subtract'}}}},\n",
      "                      'process_id': 'reduce_dimension'}}\n"
     ]
    }
   ],
   "source": [
    "def mask(value: ProcessBuilder):\n",
    "    red = value.array_element(0)\n",
    "    nir = value.array_element(1)\n",
    "    clm = value.array_element(2)\n",
    "\n",
    "    ndvi = (nir - red) / (nir + red)\n",
    "\n",
    "    return if_(lt(clm, 40), ndvi)\n",
    "\n",
    "sen2cor = c.load_collection(\n",
    "    \"SENTINEL2_L2A_SENTINELHUB\", bands=[\"B04\", \"B08\", \"CLP\"], temporal_extent=[\"2020-01-01\", \"2021-01-01\"]\n",
    ")\n",
    "sen2cor_masked = sen2cor.reduce_dimension(dimension=\"bands\", reducer=mask)\n",
    "sen2cor_masked = sen2cor_masked.aggregate_spatial(test_polygon, reducer=\"median\")\n",
    "process_graph = json.loads(sen2cor_masked.to_json())[\"process_graph\"]\n",
    "pprint(process_graph)"
   ]
  },
  {
   "cell_type": "code",
   "execution_count": 5,
   "id": "c2f7adf5",
   "metadata": {},
   "outputs": [
    {
     "name": "stdout",
     "output_type": "stream",
     "text": [
      "All nodes valid? True\n",
      "[]\n",
      "All nodes valid? True\n",
      "[]\n",
      "[{'evalscript': <pg_to_evalscript.evalscript.Evalscript object at 0x0000029A85003CA0>, 'invalid_node_id': 'aggregatespatial1'}]\n"
     ]
    }
   ],
   "source": [
    "evalscripts = convert_from_process_graph(process_graph)\n",
    "print(evalscripts)"
   ]
  },
  {
   "cell_type": "code",
   "execution_count": 6,
   "id": "76bcfe92",
   "metadata": {},
   "outputs": [
    {
     "name": "stdout",
     "output_type": "stream",
     "text": [
      "[{'name': 't', 'size': None, 'original_temporal': True}]\n",
      "1 []\n"
     ]
    },
    {
     "data": {
      "text/plain": [
       "'\\n//VERSION=3\\nfunction setup() {\\n  return {\\n    input: [\\'B04\\',\\'B08\\',\\'CLP\\'],\\n    output: { bands: 1, sampleType: \"AUTO\" },\\n    mosaicking: \"ORBIT\"\\n  };\\n}\\n\\nfunction updateOutput(outputs, collection) {\\n    Object.values(outputs).forEach((output) => {\\n        output.bands = 1 + 0 * collection.scenes.length;\\n    });\\n}\\nclass DataCube {\\r\\n    constructor(data, bands_dimension_name, temporal_dimension_name, fromSamples) {\\r\\n        this.TEMPORAL = \"temporal\"\\r\\n        this.BANDS = \"bands\"\\r\\n        this.OTHER = \"other\"\\r\\n        this.bands_dimension_name = bands_dimension_name;\\r\\n        this.temporal_dimension_name = temporal_dimension_name;\\r\\n        this.dimensions = [{\\r\\n            name: this.temporal_dimension_name,\\r\\n            labels: [],\\r\\n            type: this.TEMPORAL\\r\\n        }, {\\r\\n            name: this.bands_dimension_name,\\r\\n            labels: [],\\r\\n            type: this.BANDS\\r\\n        }]\\r\\n        if (fromSamples) {\\r\\n            this.data = this.makeArrayFromSamples(data)\\r\\n        } else {\\r\\n            this.data = data;\\r\\n        }\\r\\n    }\\r\\n\\r\\n    getDimensionByName(name) {\\r\\n        return this.dimensions.find(d => d.name === name)\\r\\n    }\\r\\n\\r\\n    makeArrayFromSamples(samples) {\\r\\n        if (Array.isArray(samples)) {\\r\\n            let newData = []\\r\\n            for (let entry of samples) {\\r\\n                if (this.getDimensionByName(this.bands_dimension_name).labels.length === 0) {\\r\\n                    this.getDimensionByName(this.bands_dimension_name).labels = Object.keys(entry)\\r\\n                }\\r\\n                newData.push(Object.values(entry))\\r\\n            }\\r\\n            return newData\\r\\n        } else {\\r\\n            if (this.getDimensionByName(this.bands_dimension_name).labels.length === 0) {\\r\\n                this.getDimensionByName(this.bands_dimension_name).labels = Object.keys(samples)\\r\\n            }\\r\\n            return Object.values(samples)\\r\\n        }\\r\\n    }\\r\\n\\r\\n    getBandIndices(bands) {\\r\\n        return bands.map(b => this.getDimensionByName(this.bands_dimension_name).labels.indexOf(b))\\r\\n    }\\r\\n\\r\\n    filterBands(bands) {\\r\\n        const indices = this.getBandIndices(bands)\\r\\n        const axis = this.dimensions.findIndex(e => e.name === this.bands_dimension_name)\\r\\n        this.data = this._filter(this.data, axis, indices)\\r\\n        this.getDimensionByName(this.bands_dimension_name).labels = bands;\\r\\n    }\\r\\n\\r\\n    removeDimension(dimension) {\\r\\n        this.dimensions = this.dimensions.filter(d => d.name !== dimension)\\r\\n    }\\r\\n\\r\\n    addDimension(name, label, type) {\\r\\n        this.data = this._addDimension(this.data, 0)\\r\\n        this.dimensions.unshift({\\r\\n            name: name,\\r\\n            labels: [label],\\r\\n            type: type\\r\\n        })\\r\\n    }\\r\\n\\r\\n    clone() {\\r\\n        const copy = new DataCube(this._iter(this.data), this.bands_dimension_name, this.temporal_dimension_name)\\r\\n        copy.dimensions = JSON.parse(JSON.stringify(this.dimensions))\\r\\n        return copy\\r\\n    }\\r\\n\\r\\n    encodeData() {\\r\\n        const shape = this.getDataShape();\\r\\n        const flattenedData = this.flatten();\\r\\n        return [...shape, ...flattenedData]\\r\\n    }\\r\\n\\r\\n\\r\\n    _iter(arr, execute = v => v, removeDim = () => false, execute_on_result = r => r, coords = []) {\\r\\n        if (Array.isArray(arr)) {\\r\\n            let result = []\\r\\n            for (let i = 0; i < arr.length; i++) {\\r\\n                const val = this._iter(arr[i], execute, removeDim, execute_on_result, [...coords, i])\\r\\n                if (val !== undefined) {\\r\\n                    result.push(val)\\r\\n                }\\r\\n            }\\r\\n            result = execute_on_result(result, coords)\\r\\n            if (result.length === 0) {\\r\\n                return\\r\\n            }\\r\\n            const shouldRemoveDim = removeDim(coords)\\r\\n            if (shouldRemoveDim && result.length !== 1) {\\r\\n                throw new Error(\\'Can only remove dimension of length 1!\\')\\r\\n            } else if (shouldRemoveDim) {\\r\\n                return result[0]\\r\\n            }\\r\\n            return result\\r\\n        } else {\\r\\n            return execute(arr, coords)\\r\\n        }\\r\\n    }\\r\\n\\r\\n    reduceByDimension(reducer, dimension) {\\r\\n        let newData = this._iter(this.data)\\r\\n        const axis = this.dimensions.findIndex(e => e.name === dimension)\\r\\n        const shape = this.getDataShape()\\r\\n        const coords = new Array(shape.length).fill(0);\\r\\n        coords[axis] = null;\\r\\n        let currInd = 0;\\r\\n        const labels = this.dimensions[axis].labels\\r\\n\\r\\n        while (true) {\\r\\n            if (currInd >= shape.length) {\\r\\n                break;\\r\\n            }\\r\\n            const dataToReduce = this._select(newData, coords)\\r\\n            dataToReduce.labels = labels\\r\\n            const newVals = reducer({\\r\\n                data: dataToReduce\\r\\n            })\\r\\n            newData = this._set(newData, newVals, coords)\\r\\n            if (coords[currInd] + 1 >= shape[currInd]) {\\r\\n                currInd++\\r\\n            }\\r\\n            if (coords[currInd] === null) {\\r\\n                currInd++\\r\\n            }\\r\\n            coords[currInd]++\\r\\n        }\\r\\n        const finalSelectCoords = new Array(shape.length).fill(null);\\r\\n        finalSelectCoords[axis] = 0;\\r\\n        this.data = this._select(newData, finalSelectCoords);\\r\\n        this.removeDimension(dimension)\\r\\n    }\\r\\n\\r\\n    flatten() {\\r\\n        const flattenArr = (arr) => arr.reduce((flat, next) => flat.concat(next), []);\\r\\n        return this._iter(this.data, v => v, () => false, r => {\\r\\n            return flattenArr(r)\\r\\n        })\\r\\n    }\\r\\n\\r\\n    getDataShape() {\\r\\n        let dimensions;\\r\\n        this._iter(this.data, (a, coords) => {\\r\\n            dimensions = coords;\\r\\n            return a\\r\\n        })\\r\\n        return dimensions.map(d => d + 1)\\r\\n    }\\r\\n\\r\\n    _addDimension(arr, axis) {\\r\\n        // new dimension is added before the axis\\r\\n        if (!Array.isArray(arr)) {\\r\\n            return [arr]\\r\\n        }\\r\\n        return this._iter(arr, v => v, () => false, (r, c) => {\\r\\n            if (c.length === axis) {\\r\\n                return [r]\\r\\n            }\\r\\n            return r\\r\\n        })\\r\\n    }\\r\\n\\r\\n    _select(arr, coordArr) {\\r\\n        // coordArr: 1D list of n coordinates. If m-th place has `null`, the entire axis is included and the dimension is kept\\r\\n        function coordInSlice(c1, sliceArr) {\\r\\n            return sliceArr.every((e, i) => e === null || e === c1[i])\\r\\n        }\\r\\n        return this._iter(arr, (a, coords) => {\\r\\n            if (coordInSlice(coords, coordArr)) {\\r\\n                return a\\r\\n            }\\r\\n        }, coords => coords.length >= coordArr.length || coordArr[coords.length] === null ? false : true)\\r\\n    }\\r\\n\\r\\n    _set(arr, vals, coordArr) {\\r\\n        // Set values at coordArr\\r\\n        function coordInSlice(c1, sliceArr) {\\r\\n            return c1.length === sliceArr.length && sliceArr.every((e, i) => e === null || e === c1[i])\\r\\n        }\\r\\n        const exec_set = (a, coords) => {\\r\\n            if (coordInSlice(coords, coordArr)) {\\r\\n                let valueToSet;\\r\\n                if (Array.isArray(vals)) {\\r\\n                    valueToSet = this._select(vals, coordArr.map((c, i) => c === null ? coords[i] : null).filter(c => c !== null))\\r\\n                } else {\\r\\n                    valueToSet = vals\\r\\n                }\\r\\n                return valueToSet\\r\\n            }\\r\\n            return a\\r\\n        }\\r\\n        return this._iter(arr, exec_set)\\r\\n    }\\r\\n\\r\\n    _filter(arr, dim, coordArr) {\\r\\n        const exec_filter = (a, coords) => {\\r\\n            if (coordArr.includes(coords[dim])) {\\r\\n                return a\\r\\n            }\\r\\n        }\\r\\n        return this._iter(arr, exec_filter)\\r\\n    }\\r\\n}\\n\\n\\tfunction reduce_dimension_a617432db3d143d29410a3fb5204788f(arguments) {\\n\\n\\tfunction reduce_dimension(arguments) {\\n\\t    function reducer(arguments) {\\n    \\n\\t\\t\\tfunction array_element_aedadf4351864312900038384124cfd7(arguments) {\\n\\t\\t\\t\\t\\tfunction array_element(arguments) {\\r\\n\\t\\t\\t\\t\\t    const {data, index, label} = arguments;\\r\\n\\t\\t\\t\\t\\t    if (index !== undefined) {\\r\\n\\t\\t\\t\\t\\t        return data[index]\\r\\n\\t\\t\\t\\t\\t    }\\r\\n\\t\\t\\t\\t\\t    return data[data.labels.indexOf(label)]\\r\\n\\t\\t\\t\\t\\t}\\n\\t\\t\\t    return array_element(arguments)\\n\\t\\t\\t}\\n\\n\\n\\t\\t\\tfunction array_element_575ded752bed41f7bce9abae5192cd2d(arguments) {\\n\\t\\t\\t\\t\\tfunction array_element(arguments) {\\r\\n\\t\\t\\t\\t\\t    const {data, index, label} = arguments;\\r\\n\\t\\t\\t\\t\\t    if (index !== undefined) {\\r\\n\\t\\t\\t\\t\\t        return data[index]\\r\\n\\t\\t\\t\\t\\t    }\\r\\n\\t\\t\\t\\t\\t    return data[data.labels.indexOf(label)]\\r\\n\\t\\t\\t\\t\\t}\\n\\t\\t\\t    return array_element(arguments)\\n\\t\\t\\t}\\n\\n\\n\\t\\t\\tfunction array_element_5d66ef736ac645c8a91b6ce3921d722f(arguments) {\\n\\t\\t\\t\\t\\tfunction array_element(arguments) {\\r\\n\\t\\t\\t\\t\\t    const {data, index, label} = arguments;\\r\\n\\t\\t\\t\\t\\t    if (index !== undefined) {\\r\\n\\t\\t\\t\\t\\t        return data[index]\\r\\n\\t\\t\\t\\t\\t    }\\r\\n\\t\\t\\t\\t\\t    return data[data.labels.indexOf(label)]\\r\\n\\t\\t\\t\\t\\t}\\n\\t\\t\\t    return array_element(arguments)\\n\\t\\t\\t}\\n\\n\\n\\t\\t\\tfunction add_02f908958c54422a9366666827fc1810(arguments) {\\n\\t\\t\\t\\t\\tfunction add(arguments) {\\r\\n\\t\\t\\t\\t\\t    const {x, y} = arguments;\\r\\n\\t\\t\\t\\t\\t    return x + y\\r\\n\\t\\t\\t\\t\\t}\\n\\t\\t\\t    return add(arguments)\\n\\t\\t\\t}\\n\\n\\n\\t\\t\\tfunction subtract_24af10a12d6f49b2b0941ec8453b13a4(arguments) {\\n\\t\\t\\t\\t\\tfunction subtract(arguments) {\\r\\n\\t\\t\\t\\t\\t    const {x, y} = arguments;\\r\\n\\t\\t\\t\\t\\t    return x - y\\r\\n\\t\\t\\t\\t\\t}\\n\\t\\t\\t    return subtract(arguments)\\n\\t\\t\\t}\\n\\n\\n\\t\\t\\tfunction lt_fd708bdbb3ab4015a260ece30dc514be(arguments) {\\n\\t\\t\\t\\t\\tfunction lt(arguments) {\\r\\n\\t\\t\\t\\t\\t    const {x, y} = arguments;\\r\\n\\t\\t\\t\\t\\t    return x < y\\r\\n\\t\\t\\t\\t\\t}\\n\\t\\t\\t    return lt(arguments)\\n\\t\\t\\t}\\n\\n\\n\\t\\t\\tfunction divide_8b5d3c1999824b26b366797b2a736614(arguments) {\\n\\t\\t\\t\\t\\tfunction divide(arguments) {\\r\\n\\t\\t\\t\\t\\t    const {x, y} = arguments;\\r\\n\\t\\t\\t\\t\\t    return x / y\\r\\n\\t\\t\\t\\t\\t}\\n\\t\\t\\t    return divide(arguments)\\n\\t\\t\\t}\\n\\n\\n\\t\\t\\tfunction if_88c2d3049cfa4c16b0e27e68872e399a(arguments) {\\n\\t\\t\\t\\t\\tfunction _if(arguments) {\\r\\n\\t\\t\\t\\t\\t    const {value, accept, reject} = arguments;\\r\\n\\t\\t\\t\\t\\t    if(value === true) {\\r\\n\\t\\t\\t\\t\\t        return accept\\r\\n\\t\\t\\t\\t\\t    }\\r\\n\\t\\t\\t\\t\\t    return reject\\r\\n\\t\\t\\t\\t\\t}\\n\\t\\t\\t    return _if(arguments)\\n\\t\\t\\t}\\n\\n\\t    \\t\\tlet arrayelement1 = array_element_aedadf4351864312900038384124cfd7({\"data\": arguments.data, \"index\": 1})\\n\\t\\t\\tlet arrayelement2 = array_element_575ded752bed41f7bce9abae5192cd2d({\"data\": arguments.data, \"index\": 0})\\n\\t\\t\\tlet arrayelement3 = array_element_5d66ef736ac645c8a91b6ce3921d722f({\"data\": arguments.data, \"index\": 2})\\n\\t\\t\\tlet add1 = add_02f908958c54422a9366666827fc1810({\"x\": arrayelement1, \"y\": arrayelement2})\\n\\t\\t\\tlet subtract1 = subtract_24af10a12d6f49b2b0941ec8453b13a4({\"x\": arrayelement1, \"y\": arrayelement2})\\n\\t\\t\\tlet lt1 = lt_fd708bdbb3ab4015a260ece30dc514be({\"x\": arrayelement3, \"y\": 40})\\n\\t\\t\\tlet divide1 = divide_8b5d3c1999824b26b366797b2a736614({\"x\": subtract1, \"y\": add1})\\n\\t\\t\\tlet if1 = if_88c2d3049cfa4c16b0e27e68872e399a({\"accept\": divide1, \"value\": lt1})\\n\\t        return if1;\\n\\t    }\\n\\n\\t    const {data, dimension} = arguments; \\n\\t    const newData = data.clone()\\n\\t    newData.reduceByDimension(reducer, dimension)\\n\\t    return newData;\\n\\t}\\n\\n\\t    return reduce_dimension(arguments)\\n\\t}\\n\\nfunction evaluatePixel(samples) {\\n    let loadcollection1 = new DataCube(samples, \\'bands\\', \\'t\\', true)\\n    \\tlet reducedimension1 = reduce_dimension_a617432db3d143d29410a3fb5204788f({\"data\": loadcollection1, \"dimension\": \"bands\", \"reducer\": {\"process_graph\": {\"arrayelement1\": {\"process_id\": \"array_element\", \"arguments\": {\"data\": {\"from_parameter\": \"data\"}, \"index\": 1}}, \"arrayelement2\": {\"process_id\": \"array_element\", \"arguments\": {\"data\": {\"from_parameter\": \"data\"}, \"index\": 0}}, \"subtract1\": {\"process_id\": \"subtract\", \"arguments\": {\"x\": {\"from_node\": \"arrayelement1\"}, \"y\": {\"from_node\": \"arrayelement2\"}}}, \"add1\": {\"process_id\": \"add\", \"arguments\": {\"x\": {\"from_node\": \"arrayelement1\"}, \"y\": {\"from_node\": \"arrayelement2\"}}}, \"divide1\": {\"process_id\": \"divide\", \"arguments\": {\"x\": {\"from_node\": \"subtract1\"}, \"y\": {\"from_node\": \"add1\"}}}, \"arrayelement3\": {\"process_id\": \"array_element\", \"arguments\": {\"data\": {\"from_parameter\": \"data\"}, \"index\": 2}}, \"lt1\": {\"process_id\": \"lt\", \"arguments\": {\"x\": {\"from_node\": \"arrayelement3\"}, \"y\": 40}}, \"if1\": {\"process_id\": \"if\", \"arguments\": {\"accept\": {\"from_node\": \"divide1\"}, \"value\": {\"from_node\": \"lt1\"}}, \"result\": true}}}})\\n    return reducedimension1.encodeData()\\n}\\n'"
      ]
     },
     "execution_count": 6,
     "metadata": {},
     "output_type": "execute_result"
    }
   ],
   "source": [
    "evalscripts[0][\"evalscript\"].write()"
   ]
  },
  {
   "cell_type": "code",
   "execution_count": null,
   "id": "4962391a",
   "metadata": {},
   "outputs": [],
   "source": []
  }
 ],
 "metadata": {
  "kernelspec": {
   "display_name": "Python 3 (ipykernel)",
   "language": "python",
   "name": "python3"
  },
  "language_info": {
   "codemirror_mode": {
    "name": "ipython",
    "version": 3
   },
   "file_extension": ".py",
   "mimetype": "text/x-python",
   "name": "python",
   "nbconvert_exporter": "python",
   "pygments_lexer": "ipython3",
   "version": "3.8.0"
  }
 },
 "nbformat": 4,
 "nbformat_minor": 5
}
